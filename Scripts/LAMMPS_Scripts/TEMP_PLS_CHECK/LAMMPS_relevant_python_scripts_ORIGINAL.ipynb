{
 "cells": [
  {
   "cell_type": "code",
   "execution_count": null,
   "metadata": {},
   "outputs": [],
   "source": [
    "#Create_mini_from_POSCAR.py"
   ]
  },
  {
   "cell_type": "code",
   "execution_count": null,
   "metadata": {},
   "outputs": [],
   "source": [
    "from ase.io import read, write\n",
    "\n",
    "atoms = read(\"2_aimsgb_POSCAR_rel_0.25\")\n",
    "atoms.wrap()\n",
    "write(\"mini.data\",atoms,format=\"lammps-data\",specorder=['Ga','Cu','Ag','Se'])\n",
    "\n",
    "# yaml to yace\n",
    "# run to command line\n",
    "# pace_yaml2yace output_potential.yaml\n"
   ]
  },
  {
   "cell_type": "code",
   "execution_count": null,
   "metadata": {},
   "outputs": [],
   "source": [
    "#Create_folders_From_Structures.py"
   ]
  },
  {
   "cell_type": "code",
   "execution_count": null,
   "metadata": {},
   "outputs": [],
   "source": [
    "import subprocess\n",
    "import os\n",
    "import numpy as np\n",
    "from pyace import *\n",
    "from ase.io import read\n",
    "import os\n",
    "import gzip\n",
    "import shutil\n",
    "import numpy as np\n",
    "import matplotlib.pyplot as plt"
   ]
  },
  {
   "cell_type": "code",
   "execution_count": null,
   "metadata": {},
   "outputs": [],
   "source": [
    "# Source directory where POSCAR files are located\n",
    "source_directory = '/nfshome/karanikv/TEST_Potential/Sigma3/LAMMPS_Sigma3/Structures'\n",
    "\n",
    "# Get a list of POSCAR files\n",
    "data_files = [filename for filename in os.listdir(source_directory) if filename.endswith('.data')]\n",
    "\n",
    "# Destination directory where you want to create the folders\n",
    "destination_directory = '/nfshome/karanikv/TEST_Potential/Sigma3/LAMMPS_Sigma3'  # Use the current working directory\n",
    "script_dir = os.path.dirname(os.path.abspath(__file__))\n",
    "\n",
    "# List of additional files to copy (from the main directory)\n",
    "additional_files = [\n",
    "    \"equilibrate.in\",\n",
    "    \"submit-lammps-ml_GPU_Version.sh\",\n",
    "]\n",
    "\n",
    "Temperatures = [50]\n",
    "\n",
    "# Loop through each POSCAR file\n",
    "for data_file in data_files:\n",
    "    Data = os.path.join(source_directory, f\"{data_file}\")\n",
    "    print(Data)\n",
    "    # Check if the POSCAR file exists in the source directory\n",
    "    source_path = os.path.join(source_directory, data_file)\n",
    "    if not os.path.exists(source_path):\n",
    "       print(f\"Error: '{poscar_file}' not found in '{source_directory}'. Skipping...\")\n",
    "       continue  # Skip to the next iteration\n",
    "\n",
    "    folder_name = f\"{data_file}\" # Extract folder name\n",
    "    folder_path = os.path.join(destination_directory, folder_name)\n",
    "\n",
    "    # Create the folder if it doesn't exist\n",
    "    os.makedirs(folder_path, exist_ok=True)\n",
    "\n",
    "    # Loop through each temperature\n",
    "    for Temperature in Temperatures:\n",
    "        temp_folder = os.path.join(folder_path, f'T_{Temperature}')\n",
    "\n",
    "        # Create a subfolder for the current temperature\n",
    "        os.makedirs(temp_folder, exist_ok=True)\n",
    "\n",
    "        # Copy the POSCAR file to the subfolder\n",
    "        source_path = os.path.join(source_directory, data_file)\n",
    "        destination_path = os.path.join(temp_folder, 'mini.data')\n",
    "        shutil.copy(source_path, destination_path)\n",
    "\n",
    "        # Copy additional files from the main directory to the subfolder with temperature-specific variations\n",
    "        for file_name in additional_files:\n",
    "            source_file_path = os.path.join(script_dir, file_name)  # Use the full path to the additional files\n",
    "            dest_file_path = os.path.join(temp_folder, file_name)\n",
    "            shutil.copy(source_file_path, dest_file_path)\n",
    "        \n",
    "        print(f\"Copied {data_file} to {temp_folder}\")\n",
    "\n",
    "    print(f\"Processed {data_file}\")\n",
    "\n",
    "print(\"Copying and script execution completed.\")"
   ]
  },
  {
   "cell_type": "code",
   "execution_count": null,
   "metadata": {},
   "outputs": [],
   "source": []
  },
  {
   "cell_type": "code",
   "execution_count": null,
   "metadata": {},
   "outputs": [],
   "source": [
    "#Submit_Jobs.py"
   ]
  },
  {
   "cell_type": "code",
   "execution_count": null,
   "metadata": {},
   "outputs": [],
   "source": [
    "import os\n",
    "import subprocess\n",
    "from pathlib import Path\n",
    "from shutil import copy2\n",
    "\n",
    "# Function to submit job to the cluster\n",
    "for p in Path('.').glob('Ga*/T_*'):\n",
    "    subprocess.run(['sbatch', 'submit-lammps-ml_GPU_Version.sh'], cwd=p)"
   ]
  },
  {
   "cell_type": "code",
   "execution_count": null,
   "metadata": {},
   "outputs": [],
   "source": []
  },
  {
   "cell_type": "code",
   "execution_count": null,
   "metadata": {},
   "outputs": [],
   "source": []
  }
 ],
 "metadata": {
  "kernelspec": {
   "display_name": "Python 3 (ipykernel)",
   "language": "python",
   "name": "python3"
  },
  "language_info": {
   "codemirror_mode": {
    "name": "ipython",
    "version": 3
   },
   "file_extension": ".py",
   "mimetype": "text/x-python",
   "name": "python",
   "nbconvert_exporter": "python",
   "pygments_lexer": "ipython3",
   "version": "3.9.20"
  }
 },
 "nbformat": 4,
 "nbformat_minor": 4
}
