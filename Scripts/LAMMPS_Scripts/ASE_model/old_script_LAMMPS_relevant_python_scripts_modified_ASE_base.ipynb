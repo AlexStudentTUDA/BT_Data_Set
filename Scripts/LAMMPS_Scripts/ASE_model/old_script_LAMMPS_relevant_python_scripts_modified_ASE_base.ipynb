{
 "cells": [
  {
   "cell_type": "code",
   "execution_count": null,
   "metadata": {},
   "outputs": [],
   "source": [
    "#Create_mini_from_POSCAR.py"
   ]
  },
  {
   "cell_type": "code",
   "execution_count": null,
   "metadata": {},
   "outputs": [],
   "source": [
    "from ase.io import read, write\n",
    "\n",
    "atoms = read(\"2_aimsgb_POSCAR_rel_0.25\")\n",
    "atoms.wrap()\n",
    "write(\"mini.data\",atoms,format=\"lammps-data\",specorder=['Ga','Cu','Ag','Se'])\n",
    "\n",
    "# yaml to yace\n",
    "# run to command line\n",
    "# pace_yaml2yace output_potential.yaml\n"
   ]
  },
  {
   "cell_type": "code",
   "execution_count": null,
   "metadata": {},
   "outputs": [],
   "source": [
    "#Create_folders_From_Structures.py"
   ]
  },
  {
   "cell_type": "code",
   "execution_count": 1,
   "metadata": {},
   "outputs": [],
   "source": [
    "import subprocess\n",
    "import os\n",
    "import numpy as np\n",
    "from pyace import *\n",
    "from ase.io import read\n",
    "import os\n",
    "import gzip\n",
    "import shutil\n",
    "import numpy as np\n",
    "import matplotlib.pyplot as plt"
   ]
  },
  {
   "cell_type": "code",
   "execution_count": null,
   "metadata": {},
   "outputs": [],
   "source": [
    "/nfshome/karanikv/LAMMPS_Test/Excess_Energy_Volume/Potential_27_from_2024_11_19_Potential_Training_GPU_HOREKA_2_700K/HOREKA_GPU/output_potential.yace"
   ]
  },
  {
   "cell_type": "code",
   "execution_count": 4,
   "metadata": {},
   "outputs": [
    {
     "data": {
      "text/plain": [
       "\"\\n# Python program to demonstrate \\n  \\nimport os.path \\n\\n# Path \\npath = '/home/User/Documents'\\n  \\n# Get the directory name   \\n# from the specified path \\ndirname = os.path.dirname(path) \\n  \\n# Print the directory name   \\nprint(dirname)\\n\\n# os.path.abspath()   \\n# file name    \\nfile_name = 'example.txt'  \\n  \\n# prints the absolute path of current \\n# working directory with  file name \\nprint(os.path.abspath(file_name)) \\n\""
      ]
     },
     "execution_count": 4,
     "metadata": {},
     "output_type": "execute_result"
    }
   ],
   "source": [
    "'''\n",
    "# Python program to demonstrate \n",
    "  \n",
    "import os.path \n",
    "\n",
    "# Path \n",
    "path = '/home/User/Documents'\n",
    "  \n",
    "# Get the directory name   \n",
    "# from the specified path \n",
    "dirname = os.path.dirname(path) \n",
    "  \n",
    "# Print the directory name   \n",
    "print(dirname)\n",
    "\n",
    "# os.path.abspath()   \n",
    "# file name    \n",
    "file_name = 'example.txt'  \n",
    "  \n",
    "# prints the absolute path of current \n",
    "# working directory with  file name \n",
    "print(os.path.abspath(file_name)) \n",
    "'''"
   ]
  },
  {
   "cell_type": "code",
   "execution_count": 6,
   "metadata": {},
   "outputs": [
    {
     "name": "stdout",
     "output_type": "stream",
     "text": [
      "['GB-final-S3-CuGaSe2.mini.data', 'GB-final-S9-CuGaSe2.mini.data', 'S9_mini_GB-S9-CuGaSe2-2rep.data', 'S9_mini_GB-S9-CuGaSe2-4rep.data', 'S9_mini_GB-S9-CuGaSe2-6rep.data', 'S9_mini_GB-S9-CuGaSe2-8rep.data']\n",
      "/nfshome/okresa/Bachelor_Thesis_Office/Project_Vacancy_Intersetiell_ASE_model/Scripts/LAMMPS_Scripts/ASE_base_relaxieren/mini_data_Structures/GB-final-S3-CuGaSe2.mini.data\n",
      "Copied GB-final-S3-CuGaSe2.mini.data to /nfshome/okresa/Bachelor_Thesis_Office/Project_Vacancy_Intersetiell_ASE_model/Scripts/LAMMPS_Scripts/ASE_base_relaxieren/GB-final-S3-CuGaSe2.mini.data/T_50\n",
      "Processed GB-final-S3-CuGaSe2.mini.data\n",
      "/nfshome/okresa/Bachelor_Thesis_Office/Project_Vacancy_Intersetiell_ASE_model/Scripts/LAMMPS_Scripts/ASE_base_relaxieren/mini_data_Structures/GB-final-S9-CuGaSe2.mini.data\n",
      "Copied GB-final-S9-CuGaSe2.mini.data to /nfshome/okresa/Bachelor_Thesis_Office/Project_Vacancy_Intersetiell_ASE_model/Scripts/LAMMPS_Scripts/ASE_base_relaxieren/GB-final-S9-CuGaSe2.mini.data/T_50\n",
      "Processed GB-final-S9-CuGaSe2.mini.data\n",
      "/nfshome/okresa/Bachelor_Thesis_Office/Project_Vacancy_Intersetiell_ASE_model/Scripts/LAMMPS_Scripts/ASE_base_relaxieren/mini_data_Structures/S9_mini_GB-S9-CuGaSe2-2rep.data\n",
      "Copied S9_mini_GB-S9-CuGaSe2-2rep.data to /nfshome/okresa/Bachelor_Thesis_Office/Project_Vacancy_Intersetiell_ASE_model/Scripts/LAMMPS_Scripts/ASE_base_relaxieren/S9_mini_GB-S9-CuGaSe2-2rep.data/T_50\n",
      "Processed S9_mini_GB-S9-CuGaSe2-2rep.data\n",
      "/nfshome/okresa/Bachelor_Thesis_Office/Project_Vacancy_Intersetiell_ASE_model/Scripts/LAMMPS_Scripts/ASE_base_relaxieren/mini_data_Structures/S9_mini_GB-S9-CuGaSe2-4rep.data\n",
      "Copied S9_mini_GB-S9-CuGaSe2-4rep.data to /nfshome/okresa/Bachelor_Thesis_Office/Project_Vacancy_Intersetiell_ASE_model/Scripts/LAMMPS_Scripts/ASE_base_relaxieren/S9_mini_GB-S9-CuGaSe2-4rep.data/T_50\n",
      "Processed S9_mini_GB-S9-CuGaSe2-4rep.data\n",
      "/nfshome/okresa/Bachelor_Thesis_Office/Project_Vacancy_Intersetiell_ASE_model/Scripts/LAMMPS_Scripts/ASE_base_relaxieren/mini_data_Structures/S9_mini_GB-S9-CuGaSe2-6rep.data\n",
      "Copied S9_mini_GB-S9-CuGaSe2-6rep.data to /nfshome/okresa/Bachelor_Thesis_Office/Project_Vacancy_Intersetiell_ASE_model/Scripts/LAMMPS_Scripts/ASE_base_relaxieren/S9_mini_GB-S9-CuGaSe2-6rep.data/T_50\n",
      "Processed S9_mini_GB-S9-CuGaSe2-6rep.data\n",
      "/nfshome/okresa/Bachelor_Thesis_Office/Project_Vacancy_Intersetiell_ASE_model/Scripts/LAMMPS_Scripts/ASE_base_relaxieren/mini_data_Structures/S9_mini_GB-S9-CuGaSe2-8rep.data\n",
      "Copied S9_mini_GB-S9-CuGaSe2-8rep.data to /nfshome/okresa/Bachelor_Thesis_Office/Project_Vacancy_Intersetiell_ASE_model/Scripts/LAMMPS_Scripts/ASE_base_relaxieren/S9_mini_GB-S9-CuGaSe2-8rep.data/T_50\n",
      "Processed S9_mini_GB-S9-CuGaSe2-8rep.data\n",
      "\n",
      "Copying and script execution completed.\n",
      "\n",
      "Timestamp:\n",
      "01-28-2025 17:00\n"
     ]
    }
   ],
   "source": [
    "#base LAMMPS folders\n",
    "\n",
    "# Source directory where POSCAR files are located\n",
    "#source_directory = '/nfshome/karanikv/TEST_Potential/Sigma3/LAMMPS_Sigma3/Structures'\n",
    "source_directory = '/nfshome/okresa/Bachelor_Thesis_Office/Project_Vacancy_Intersetiell_ASE_model/Scripts/LAMMPS_Scripts/ASE_base_relaxieren/mini_data_Structures'\n",
    "\n",
    "# Get a list of POSCAR files\n",
    "data_files = [filename for filename in os.listdir(source_directory) if filename.endswith('.data')]\n",
    "print(data_files)\n",
    "# Destination directory where you want to create the folders\n",
    "#destination_directory = '/nfshome/karanikv/TEST_Potential/Sigma3/LAMMPS_Sigma3'  # Use the current working directory\n",
    "destination_directory = '/nfshome/okresa/Bachelor_Thesis_Office/Project_Vacancy_Intersetiell_ASE_model/Scripts/LAMMPS_Scripts/ASE_base_relaxieren'\n",
    "#script_dir = os.path.dirname(os.path.abspath(__file__))\n",
    "script_dir = os.path.dirname(os.path.abspath(\"test.txt\"))\n",
    "\n",
    "# List of additional files to copy (from the directory this srcipt is in) \n",
    "additional_files = [\n",
    "    \"equilibrate.in\",\n",
    "    #\"equilibrate_print_steps.in\",\n",
    "    \"submit-lammps-ml_GPU_Version.sh\"\n",
    "    #\"submit-lammps-ml_print_steps_GPU_Version.sh\"\n",
    "]\n",
    "\n",
    "Temperatures = [50]\n",
    "\n",
    "# Loop through each POSCAR file\n",
    "for data_file in data_files:\n",
    "    Data = os.path.join(source_directory, f\"{data_file}\")\n",
    "    print(Data)\n",
    "    # Check if the POSCAR file exists in the source directory\n",
    "    source_path = os.path.join(source_directory, data_file)\n",
    "    if not os.path.exists(source_path):\n",
    "       print(f\"Error: '{poscar_file}' not found in '{source_directory}'. Skipping...\")\n",
    "       continue  # Skip to the next iteration\n",
    "\n",
    "    folder_name = f\"{data_file}\" # Extract folder name\n",
    "    folder_path = os.path.join(destination_directory, folder_name)\n",
    "\n",
    "    # Create the folder if it doesn't exist\n",
    "    os.makedirs(folder_path, exist_ok=True)\n",
    "\n",
    "    # Loop through each temperature\n",
    "    for Temperature in Temperatures:\n",
    "        temp_folder = os.path.join(folder_path, f'T_{Temperature}')\n",
    "\n",
    "        # Create a subfolder for the current temperature\n",
    "        os.makedirs(temp_folder, exist_ok=True)\n",
    "\n",
    "        # Copy the POSCAR file to the subfolder\n",
    "        source_path = os.path.join(source_directory, data_file)\n",
    "        destination_path = os.path.join(temp_folder, 'mini.data')\n",
    "        shutil.copy(source_path, destination_path)\n",
    "\n",
    "        # Copy additional files from the main directory to the subfolder with temperature-specific variations\n",
    "        for file_name in additional_files:\n",
    "            source_file_path = os.path.join(script_dir, file_name)  # Use the full path to the additional files\n",
    "            dest_file_path = os.path.join(temp_folder, file_name)\n",
    "            shutil.copy(source_file_path, dest_file_path)\n",
    "        \n",
    "        print(f\"Copied {data_file} to {temp_folder}\")\n",
    "\n",
    "    print(f\"Processed {data_file}\")\n",
    "\n",
    "print(\"\\nCopying and script execution completed.\")\n",
    "\n",
    "# Get the current date and time\n",
    "import datetime # Import the 'datetime' module to work with date and time\n",
    "now = datetime.datetime.now()# Create a datetime object representing the current date and time\n",
    "print(\"\\nTimestamp:\")# Display a message indicating what is being printed\n",
    "print(now.strftime(\"%m-%d-%Y %H:%M\"))# Print the current date and time in a specific format \"%Y-%m-%d %H:%M:%S\"\n",
    "# Use the 'strftime' method to format the datetime object as a string with the desired format"
   ]
  },
  {
   "cell_type": "code",
   "execution_count": 13,
   "metadata": {},
   "outputs": [
    {
     "name": "stdout",
     "output_type": "stream",
     "text": [
      "['GB-final-S3-CuGaSe2.mini.data', 'GB-final-S9-CuGaSe2.mini.data', 'GB-rattle-S9-CuGaSe2.mini.data']\n",
      "/nfshome/okresa/Bachelor_Thesis_Office/Project_Vacancy_Intersetiell_ASE_model/Scripts/LAMMPS_Scripts/ASE_base_relaxieren/mini_data_Structures/GB-final-S3-CuGaSe2.mini.data\n",
      "Copied GB-final-S3-CuGaSe2.mini.data to /nfshome/okresa/Bachelor_Thesis_Office/Project_Vacancy_Intersetiell_ASE_model/Scripts/LAMMPS_Scripts/ASE_base_relaxieren/0_print_steps_GB-final-S3-CuGaSe2.mini.data/T_50\n",
      "Processed GB-final-S3-CuGaSe2.mini.data\n",
      "/nfshome/okresa/Bachelor_Thesis_Office/Project_Vacancy_Intersetiell_ASE_model/Scripts/LAMMPS_Scripts/ASE_base_relaxieren/mini_data_Structures/GB-final-S9-CuGaSe2.mini.data\n",
      "Copied GB-final-S9-CuGaSe2.mini.data to /nfshome/okresa/Bachelor_Thesis_Office/Project_Vacancy_Intersetiell_ASE_model/Scripts/LAMMPS_Scripts/ASE_base_relaxieren/0_print_steps_GB-final-S9-CuGaSe2.mini.data/T_50\n",
      "Processed GB-final-S9-CuGaSe2.mini.data\n",
      "/nfshome/okresa/Bachelor_Thesis_Office/Project_Vacancy_Intersetiell_ASE_model/Scripts/LAMMPS_Scripts/ASE_base_relaxieren/mini_data_Structures/GB-rattle-S9-CuGaSe2.mini.data\n",
      "Copied GB-rattle-S9-CuGaSe2.mini.data to /nfshome/okresa/Bachelor_Thesis_Office/Project_Vacancy_Intersetiell_ASE_model/Scripts/LAMMPS_Scripts/ASE_base_relaxieren/0_print_steps_GB-rattle-S9-CuGaSe2.mini.data/T_50\n",
      "Processed GB-rattle-S9-CuGaSe2.mini.data\n",
      "\n",
      "Copying and script execution completed.\n"
     ]
    }
   ],
   "source": [
    "#print steps ver\n",
    "\n",
    "# Source directory where POSCAR files are located\n",
    "#source_directory = '/nfshome/karanikv/TEST_Potential/Sigma3/LAMMPS_Sigma3/Structures'\n",
    "source_directory = '/nfshome/okresa/Bachelor_Thesis_Office/Project_Vacancy_Intersetiell_ASE_model/Scripts/LAMMPS_Scripts/ASE_base_relaxieren/mini_data_Structures'\n",
    "\n",
    "# Get a list of POSCAR files\n",
    "data_files = [filename for filename in os.listdir(source_directory) if filename.endswith('.data')]\n",
    "print(data_files)\n",
    "# Destination directory where you want to create the folders\n",
    "#destination_directory = '/nfshome/karanikv/TEST_Potential/Sigma3/LAMMPS_Sigma3'  # Use the current working directory\n",
    "destination_directory = '/nfshome/okresa/Bachelor_Thesis_Office/Project_Vacancy_Intersetiell_ASE_model/Scripts/LAMMPS_Scripts/ASE_base_relaxieren'\n",
    "#script_dir = os.path.dirname(os.path.abspath(__file__))\n",
    "script_dir = os.path.dirname(os.path.abspath(\"test.txt\"))\n",
    "\n",
    "# List of additional files to copy (from the directory this srcipt is in) \n",
    "additional_files = [\n",
    "    #\"equilibrate.in\",\n",
    "    \"equilibrate_print_steps.in\",\n",
    "    #\"submit-lammps-ml_GPU_Version.sh\"\n",
    "    \"submit-lammps-ml_print_steps_GPU_Version.sh\"\n",
    "]\n",
    "\n",
    "Temperatures = [50]\n",
    "\n",
    "# Loop through each POSCAR file\n",
    "for data_file in data_files:\n",
    "    Data = os.path.join(source_directory, f\"{data_file}\")\n",
    "    print(Data)\n",
    "    # Check if the POSCAR file exists in the source directory\n",
    "    source_path = os.path.join(source_directory, data_file)\n",
    "    if not os.path.exists(source_path):\n",
    "       print(f\"Error: '{poscar_file}' not found in '{source_directory}'. Skipping...\")\n",
    "       continue  # Skip to the next iteration\n",
    "\n",
    "    folder_name = f\"0_print_steps_{data_file}\" # Extract folder name\n",
    "    folder_path = os.path.join(destination_directory, folder_name)\n",
    "\n",
    "    # Create the folder if it doesn't exist\n",
    "    os.makedirs(folder_path, exist_ok=True)\n",
    "\n",
    "    # Loop through each temperature\n",
    "    for Temperature in Temperatures:\n",
    "        temp_folder = os.path.join(folder_path, f'T_{Temperature}')\n",
    "\n",
    "        # Create a subfolder for the current temperature\n",
    "        os.makedirs(temp_folder, exist_ok=True)\n",
    "\n",
    "        # Copy the POSCAR file to the subfolder\n",
    "        source_path = os.path.join(source_directory, data_file)\n",
    "        destination_path = os.path.join(temp_folder, 'mini.data')\n",
    "        shutil.copy(source_path, destination_path)\n",
    "\n",
    "        # Copy additional files from the main directory to the subfolder with temperature-specific variations\n",
    "        for file_name in additional_files:\n",
    "            source_file_path = os.path.join(script_dir, file_name)  # Use the full path to the additional files\n",
    "            dest_file_path = os.path.join(temp_folder, file_name)\n",
    "            shutil.copy(source_file_path, dest_file_path)\n",
    "        \n",
    "        print(f\"Copied {data_file} to {temp_folder}\")\n",
    "\n",
    "    print(f\"Processed {data_file}\")\n",
    "\n",
    "print(\"\\nCopying and script execution completed.\")"
   ]
  },
  {
   "cell_type": "code",
   "execution_count": 3,
   "metadata": {},
   "outputs": [
    {
     "name": "stdout",
     "output_type": "stream",
     "text": [
      "['S9_mini_GB-S9-CuGaSe2-2rep_10A_VACUUMS.data', 'S9_mini_GB-S9-CuGaSe2-4rep_10A_VACUUMS.data', 'S9_mini_GB-S9-CuGaSe2-6rep_10A_VACUUMS.data', 'S9_mini_GB-S9-CuGaSe2-8rep_10A_VACUUMS.data']\n",
      "/nfshome/okresa/Bachelor_Thesis_Office/Project_Vacancy_Intersetiell_ASE_model/Scripts/LAMMPS_Scripts/ASE_base_relaxieren/mini_data_Structures/S9_mini_GB-S9-CuGaSe2-2rep_10A_VACUUMS.data\n",
      "Copied S9_mini_GB-S9-CuGaSe2-2rep_10A_VACUUMS.data to /nfshome/okresa/Bachelor_Thesis_Office/Project_Vacancy_Intersetiell_ASE_model/Scripts/LAMMPS_Scripts/ASE_base_relaxieren/0_MD_S9_mini_GB-S9-CuGaSe2-2rep_10A_VACUUMS.data/T_1000\n",
      "Processed S9_mini_GB-S9-CuGaSe2-2rep_10A_VACUUMS.data\n",
      "/nfshome/okresa/Bachelor_Thesis_Office/Project_Vacancy_Intersetiell_ASE_model/Scripts/LAMMPS_Scripts/ASE_base_relaxieren/mini_data_Structures/S9_mini_GB-S9-CuGaSe2-4rep_10A_VACUUMS.data\n",
      "Copied S9_mini_GB-S9-CuGaSe2-4rep_10A_VACUUMS.data to /nfshome/okresa/Bachelor_Thesis_Office/Project_Vacancy_Intersetiell_ASE_model/Scripts/LAMMPS_Scripts/ASE_base_relaxieren/0_MD_S9_mini_GB-S9-CuGaSe2-4rep_10A_VACUUMS.data/T_1000\n",
      "Processed S9_mini_GB-S9-CuGaSe2-4rep_10A_VACUUMS.data\n",
      "/nfshome/okresa/Bachelor_Thesis_Office/Project_Vacancy_Intersetiell_ASE_model/Scripts/LAMMPS_Scripts/ASE_base_relaxieren/mini_data_Structures/S9_mini_GB-S9-CuGaSe2-6rep_10A_VACUUMS.data\n",
      "Copied S9_mini_GB-S9-CuGaSe2-6rep_10A_VACUUMS.data to /nfshome/okresa/Bachelor_Thesis_Office/Project_Vacancy_Intersetiell_ASE_model/Scripts/LAMMPS_Scripts/ASE_base_relaxieren/0_MD_S9_mini_GB-S9-CuGaSe2-6rep_10A_VACUUMS.data/T_1000\n",
      "Processed S9_mini_GB-S9-CuGaSe2-6rep_10A_VACUUMS.data\n",
      "/nfshome/okresa/Bachelor_Thesis_Office/Project_Vacancy_Intersetiell_ASE_model/Scripts/LAMMPS_Scripts/ASE_base_relaxieren/mini_data_Structures/S9_mini_GB-S9-CuGaSe2-8rep_10A_VACUUMS.data\n",
      "Copied S9_mini_GB-S9-CuGaSe2-8rep_10A_VACUUMS.data to /nfshome/okresa/Bachelor_Thesis_Office/Project_Vacancy_Intersetiell_ASE_model/Scripts/LAMMPS_Scripts/ASE_base_relaxieren/0_MD_S9_mini_GB-S9-CuGaSe2-8rep_10A_VACUUMS.data/T_1000\n",
      "Processed S9_mini_GB-S9-CuGaSe2-8rep_10A_VACUUMS.data\n",
      "\n",
      "Copying and script execution completed.\n",
      "\n",
      "Timestamp:\n",
      "02-04-2025 14:13\n"
     ]
    }
   ],
   "source": [
    "#MD ver\n",
    "\n",
    "# Source directory where POSCAR files are located\n",
    "#source_directory = '/nfshome/karanikv/TEST_Potential/Sigma3/LAMMPS_Sigma3/Structures'\n",
    "source_directory = '/nfshome/okresa/Bachelor_Thesis_Office/Project_Vacancy_Intersetiell_ASE_model/Scripts/LAMMPS_Scripts/ASE_base_relaxieren/mini_data_Structures'\n",
    "\n",
    "# Get a list of POSCAR files\n",
    "data_files = [filename for filename in os.listdir(source_directory) if filename.endswith('.data')]\n",
    "print(data_files)\n",
    "# Destination directory where you want to create the folders\n",
    "#destination_directory = '/nfshome/karanikv/TEST_Potential/Sigma3/LAMMPS_Sigma3'  # Use the current working directory\n",
    "destination_directory = '/nfshome/okresa/Bachelor_Thesis_Office/Project_Vacancy_Intersetiell_ASE_model/Scripts/LAMMPS_Scripts/ASE_base_relaxieren'\n",
    "#script_dir = os.path.dirname(os.path.abspath(__file__))\n",
    "script_dir = os.path.dirname(os.path.abspath(\"test.txt\"))\n",
    "\n",
    "# List of additional files to copy (from the directory this srcipt is in) \n",
    "additional_files = [\n",
    "    \"equilibrate_MD.in\",\n",
    "    \"submit-lammps-ml_MD_GPU_Version.sh\"\n",
    "]\n",
    "\n",
    "Temperatures = [1000]\n",
    "\n",
    "# Loop through each POSCAR file\n",
    "for data_file in data_files:\n",
    "    Data = os.path.join(source_directory, f\"{data_file}\")\n",
    "    print(Data)\n",
    "    # Check if the POSCAR file exists in the source directory\n",
    "    source_path = os.path.join(source_directory, data_file)\n",
    "    if not os.path.exists(source_path):\n",
    "       print(f\"Error: '{poscar_file}' not found in '{source_directory}'. Skipping...\")\n",
    "       continue  # Skip to the next iteration\n",
    "\n",
    "    folder_name = f\"0_MD_{data_file}\" # Extract folder name\n",
    "    folder_path = os.path.join(destination_directory, folder_name)\n",
    "\n",
    "    # Create the folder if it doesn't exist\n",
    "    os.makedirs(folder_path, exist_ok=True)\n",
    "\n",
    "    # Loop through each temperature\n",
    "    for Temperature in Temperatures:\n",
    "        temp_folder = os.path.join(folder_path, f'T_{Temperature}')\n",
    "\n",
    "        # Create a subfolder for the current temperature\n",
    "        os.makedirs(temp_folder, exist_ok=True)\n",
    "\n",
    "        # Copy the POSCAR file to the subfolder\n",
    "        source_path = os.path.join(source_directory, data_file)\n",
    "        destination_path = os.path.join(temp_folder, 'mini.data')\n",
    "        shutil.copy(source_path, destination_path)\n",
    "\n",
    "        # Copy additional files from the main directory to the subfolder with temperature-specific variations\n",
    "        for file_name in additional_files:\n",
    "            source_file_path = os.path.join(script_dir, file_name)  # Use the full path to the additional files\n",
    "            dest_file_path = os.path.join(temp_folder, file_name)\n",
    "            shutil.copy(source_file_path, dest_file_path)\n",
    "        \n",
    "        print(f\"Copied {data_file} to {temp_folder}\")\n",
    "\n",
    "    print(f\"Processed {data_file}\")\n",
    "\n",
    "print(\"\\nCopying and script execution completed.\")\n",
    "\n",
    "\n",
    "# Get the current date and time\n",
    "import datetime # Import the 'datetime' module to work with date and time\n",
    "now = datetime.datetime.now()# Create a datetime object representing the current date and time\n",
    "print(\"\\nTimestamp:\")# Display a message indicating what is being printed\n",
    "print(now.strftime(\"%m-%d-%Y %H:%M\"))# Print the current date and time in a specific format \"%Y-%m-%d %H:%M:%S\"\n",
    "# Use the 'strftime' method to format the datetime object as a string with the desired format\n"
   ]
  },
  {
   "cell_type": "code",
   "execution_count": null,
   "metadata": {},
   "outputs": [],
   "source": []
  },
  {
   "cell_type": "code",
   "execution_count": 2,
   "metadata": {},
   "outputs": [],
   "source": [
    "#Submit_Jobs.py run in gpunode: \n",
    "#cd LAMMPS \n",
    "#python Submit_Jobs.py"
   ]
  },
  {
   "cell_type": "code",
   "execution_count": 22,
   "metadata": {},
   "outputs": [
    {
     "ename": "FileNotFoundError",
     "evalue": "[Errno 2] No such file or directory: 'sbatch'",
     "output_type": "error",
     "traceback": [
      "\u001b[0;31m---------------------------------------------------------------------------\u001b[0m",
      "\u001b[0;31mFileNotFoundError\u001b[0m                         Traceback (most recent call last)",
      "Cell \u001b[0;32mIn[22], line 13\u001b[0m\n\u001b[1;32m      6\u001b[0m \u001b[38;5;66;03m# Function to submit job to the cluster\u001b[39;00m\n\u001b[1;32m      7\u001b[0m \u001b[38;5;66;03m#original:\u001b[39;00m\n\u001b[1;32m      8\u001b[0m \u001b[38;5;66;03m#for p in Path('.').glob('Ga*/T_*'):\u001b[39;00m\n\u001b[1;32m      9\u001b[0m \u001b[38;5;66;03m#    subprocess.run(['sbatch', 'submit-lammps-ml_GPU_Version.sh'], cwd=p)\u001b[39;00m\n\u001b[1;32m     10\u001b[0m \n\u001b[1;32m     11\u001b[0m \u001b[38;5;66;03m#for p in Path('/nfshome/okresa/LAMMPS/Sigma9_repetitions_1_2_4').glob('_*rep_*/T_*'):\u001b[39;00m\n\u001b[1;32m     12\u001b[0m \u001b[38;5;28;01mfor\u001b[39;00m p \u001b[38;5;129;01min\u001b[39;00m Path(\u001b[38;5;124m'\u001b[39m\u001b[38;5;124m/nfshome/okresa/LAMMPS/Sigma9_repetitions_1_2_4\u001b[39m\u001b[38;5;124m'\u001b[39m)\u001b[38;5;241m.\u001b[39mglob(\u001b[38;5;124m'\u001b[39m\u001b[38;5;124m_*rep_*/T_*\u001b[39m\u001b[38;5;124m'\u001b[39m):\n\u001b[0;32m---> 13\u001b[0m     \u001b[43msubprocess\u001b[49m\u001b[38;5;241;43m.\u001b[39;49m\u001b[43mrun\u001b[49m\u001b[43m(\u001b[49m\u001b[43m[\u001b[49m\u001b[38;5;124;43m'\u001b[39;49m\u001b[38;5;124;43msbatch\u001b[39;49m\u001b[38;5;124;43m'\u001b[39;49m\u001b[43m,\u001b[49m\u001b[43m \u001b[49m\u001b[38;5;124;43m'\u001b[39;49m\u001b[38;5;124;43msubmit-lammps-ml_GPU_Version.sh\u001b[39;49m\u001b[38;5;124;43m'\u001b[39;49m\u001b[43m]\u001b[49m\u001b[43m,\u001b[49m\u001b[43m \u001b[49m\u001b[43mcwd\u001b[49m\u001b[38;5;241;43m=\u001b[39;49m\u001b[43mp\u001b[49m\u001b[43m)\u001b[49m\n",
      "File \u001b[0;32m~/anaconda3/envs/ASE_pyace_aimsgb/lib/python3.9/subprocess.py:505\u001b[0m, in \u001b[0;36mrun\u001b[0;34m(input, capture_output, timeout, check, *popenargs, **kwargs)\u001b[0m\n\u001b[1;32m    502\u001b[0m     kwargs[\u001b[38;5;124m'\u001b[39m\u001b[38;5;124mstdout\u001b[39m\u001b[38;5;124m'\u001b[39m] \u001b[38;5;241m=\u001b[39m PIPE\n\u001b[1;32m    503\u001b[0m     kwargs[\u001b[38;5;124m'\u001b[39m\u001b[38;5;124mstderr\u001b[39m\u001b[38;5;124m'\u001b[39m] \u001b[38;5;241m=\u001b[39m PIPE\n\u001b[0;32m--> 505\u001b[0m \u001b[38;5;28;01mwith\u001b[39;00m \u001b[43mPopen\u001b[49m\u001b[43m(\u001b[49m\u001b[38;5;241;43m*\u001b[39;49m\u001b[43mpopenargs\u001b[49m\u001b[43m,\u001b[49m\u001b[43m \u001b[49m\u001b[38;5;241;43m*\u001b[39;49m\u001b[38;5;241;43m*\u001b[39;49m\u001b[43mkwargs\u001b[49m\u001b[43m)\u001b[49m \u001b[38;5;28;01mas\u001b[39;00m process:\n\u001b[1;32m    506\u001b[0m     \u001b[38;5;28;01mtry\u001b[39;00m:\n\u001b[1;32m    507\u001b[0m         stdout, stderr \u001b[38;5;241m=\u001b[39m process\u001b[38;5;241m.\u001b[39mcommunicate(\u001b[38;5;28minput\u001b[39m, timeout\u001b[38;5;241m=\u001b[39mtimeout)\n",
      "File \u001b[0;32m~/anaconda3/envs/ASE_pyace_aimsgb/lib/python3.9/subprocess.py:951\u001b[0m, in \u001b[0;36mPopen.__init__\u001b[0;34m(self, args, bufsize, executable, stdin, stdout, stderr, preexec_fn, close_fds, shell, cwd, env, universal_newlines, startupinfo, creationflags, restore_signals, start_new_session, pass_fds, user, group, extra_groups, encoding, errors, text, umask)\u001b[0m\n\u001b[1;32m    947\u001b[0m         \u001b[38;5;28;01mif\u001b[39;00m \u001b[38;5;28mself\u001b[39m\u001b[38;5;241m.\u001b[39mtext_mode:\n\u001b[1;32m    948\u001b[0m             \u001b[38;5;28mself\u001b[39m\u001b[38;5;241m.\u001b[39mstderr \u001b[38;5;241m=\u001b[39m io\u001b[38;5;241m.\u001b[39mTextIOWrapper(\u001b[38;5;28mself\u001b[39m\u001b[38;5;241m.\u001b[39mstderr,\n\u001b[1;32m    949\u001b[0m                     encoding\u001b[38;5;241m=\u001b[39mencoding, errors\u001b[38;5;241m=\u001b[39merrors)\n\u001b[0;32m--> 951\u001b[0m     \u001b[38;5;28;43mself\u001b[39;49m\u001b[38;5;241;43m.\u001b[39;49m\u001b[43m_execute_child\u001b[49m\u001b[43m(\u001b[49m\u001b[43margs\u001b[49m\u001b[43m,\u001b[49m\u001b[43m \u001b[49m\u001b[43mexecutable\u001b[49m\u001b[43m,\u001b[49m\u001b[43m \u001b[49m\u001b[43mpreexec_fn\u001b[49m\u001b[43m,\u001b[49m\u001b[43m \u001b[49m\u001b[43mclose_fds\u001b[49m\u001b[43m,\u001b[49m\n\u001b[1;32m    952\u001b[0m \u001b[43m                        \u001b[49m\u001b[43mpass_fds\u001b[49m\u001b[43m,\u001b[49m\u001b[43m \u001b[49m\u001b[43mcwd\u001b[49m\u001b[43m,\u001b[49m\u001b[43m \u001b[49m\u001b[43menv\u001b[49m\u001b[43m,\u001b[49m\n\u001b[1;32m    953\u001b[0m \u001b[43m                        \u001b[49m\u001b[43mstartupinfo\u001b[49m\u001b[43m,\u001b[49m\u001b[43m \u001b[49m\u001b[43mcreationflags\u001b[49m\u001b[43m,\u001b[49m\u001b[43m \u001b[49m\u001b[43mshell\u001b[49m\u001b[43m,\u001b[49m\n\u001b[1;32m    954\u001b[0m \u001b[43m                        \u001b[49m\u001b[43mp2cread\u001b[49m\u001b[43m,\u001b[49m\u001b[43m \u001b[49m\u001b[43mp2cwrite\u001b[49m\u001b[43m,\u001b[49m\n\u001b[1;32m    955\u001b[0m \u001b[43m                        \u001b[49m\u001b[43mc2pread\u001b[49m\u001b[43m,\u001b[49m\u001b[43m \u001b[49m\u001b[43mc2pwrite\u001b[49m\u001b[43m,\u001b[49m\n\u001b[1;32m    956\u001b[0m \u001b[43m                        \u001b[49m\u001b[43merrread\u001b[49m\u001b[43m,\u001b[49m\u001b[43m \u001b[49m\u001b[43merrwrite\u001b[49m\u001b[43m,\u001b[49m\n\u001b[1;32m    957\u001b[0m \u001b[43m                        \u001b[49m\u001b[43mrestore_signals\u001b[49m\u001b[43m,\u001b[49m\n\u001b[1;32m    958\u001b[0m \u001b[43m                        \u001b[49m\u001b[43mgid\u001b[49m\u001b[43m,\u001b[49m\u001b[43m \u001b[49m\u001b[43mgids\u001b[49m\u001b[43m,\u001b[49m\u001b[43m \u001b[49m\u001b[43muid\u001b[49m\u001b[43m,\u001b[49m\u001b[43m \u001b[49m\u001b[43mumask\u001b[49m\u001b[43m,\u001b[49m\n\u001b[1;32m    959\u001b[0m \u001b[43m                        \u001b[49m\u001b[43mstart_new_session\u001b[49m\u001b[43m)\u001b[49m\n\u001b[1;32m    960\u001b[0m \u001b[38;5;28;01mexcept\u001b[39;00m:\n\u001b[1;32m    961\u001b[0m     \u001b[38;5;66;03m# Cleanup if the child failed starting.\u001b[39;00m\n\u001b[1;32m    962\u001b[0m     \u001b[38;5;28;01mfor\u001b[39;00m f \u001b[38;5;129;01min\u001b[39;00m \u001b[38;5;28mfilter\u001b[39m(\u001b[38;5;28;01mNone\u001b[39;00m, (\u001b[38;5;28mself\u001b[39m\u001b[38;5;241m.\u001b[39mstdin, \u001b[38;5;28mself\u001b[39m\u001b[38;5;241m.\u001b[39mstdout, \u001b[38;5;28mself\u001b[39m\u001b[38;5;241m.\u001b[39mstderr)):\n",
      "File \u001b[0;32m~/anaconda3/envs/ASE_pyace_aimsgb/lib/python3.9/subprocess.py:1837\u001b[0m, in \u001b[0;36mPopen._execute_child\u001b[0;34m(self, args, executable, preexec_fn, close_fds, pass_fds, cwd, env, startupinfo, creationflags, shell, p2cread, p2cwrite, c2pread, c2pwrite, errread, errwrite, restore_signals, gid, gids, uid, umask, start_new_session)\u001b[0m\n\u001b[1;32m   1835\u001b[0m     \u001b[38;5;28;01mif\u001b[39;00m errno_num \u001b[38;5;241m!=\u001b[39m \u001b[38;5;241m0\u001b[39m:\n\u001b[1;32m   1836\u001b[0m         err_msg \u001b[38;5;241m=\u001b[39m os\u001b[38;5;241m.\u001b[39mstrerror(errno_num)\n\u001b[0;32m-> 1837\u001b[0m     \u001b[38;5;28;01mraise\u001b[39;00m child_exception_type(errno_num, err_msg, err_filename)\n\u001b[1;32m   1838\u001b[0m \u001b[38;5;28;01mraise\u001b[39;00m child_exception_type(err_msg)\n",
      "\u001b[0;31mFileNotFoundError\u001b[0m: [Errno 2] No such file or directory: 'sbatch'"
     ]
    }
   ],
   "source": [
    "import os\n",
    "import subprocess\n",
    "from pathlib import Path\n",
    "from shutil import copy2\n",
    "\n",
    "# Function to submit job to the cluster\n",
    "#original:\n",
    "#for p in Path('.').glob('Ga*/T_*'):\n",
    "#    subprocess.run(['sbatch', 'submit-lammps-ml_GPU_Version.sh'], cwd=p)\n",
    "\n",
    "#for p in Path('/nfshome/okresa/LAMMPS/Sigma9_repetitions_1_2_4').glob('_*rep_*/T_*'):\n",
    "for p in Path('/nfshome/okresa/LAMMPS/Sigma9_repetitions_1_2_4').glob('_*rep_*/T_*'):\n",
    "    subprocess.run(['sbatch', 'submit-lammps-ml_GPU_Version.sh'], cwd=p)\n"
   ]
  },
  {
   "cell_type": "code",
   "execution_count": null,
   "metadata": {},
   "outputs": [],
   "source": [
    "#read optimized structure"
   ]
  },
  {
   "cell_type": "code",
   "execution_count": 6,
   "metadata": {},
   "outputs": [],
   "source": [
    "from pathlib import Path\n",
    "import numpy as np\n",
    "import matplotlib.pyplot as plt\n",
    "from ase import Atoms\n",
    "from ase.io import read, write\n",
    "from ase.build import surface, cut, bulk\n",
    "from ase.optimize import BFGS\n",
    "from ase.constraints import UnitCellFilter\n",
    "from ase.visualize import view\n",
    "import pyace\n",
    "import aimsgb\n",
    "from aimsgb import GrainBoundary, Grain\n",
    "import os\n",
    "import shutil\n",
    "import subprocess\n",
    "from scipy.interpolate import griddata\n",
    "from ase.constraints import FixedLine"
   ]
  },
  {
   "cell_type": "code",
   "execution_count": 8,
   "metadata": {},
   "outputs": [],
   "source": [
    "pot = pyace.PyACECalculator(\"/nfshome/karanikv/TEST_Potential/output_potential.yaml\")\n",
    "ASI = \"/nfshome/karanikv/TEST_Potential/output_potential.asi\"\n",
    "pot.set_active_set(ASI)"
   ]
  },
  {
   "cell_type": "code",
   "execution_count": 5,
   "metadata": {},
   "outputs": [
    {
     "ename": "NameError",
     "evalue": "name 'pot' is not defined",
     "output_type": "error",
     "traceback": [
      "\u001b[0;31m---------------------------------------------------------------------------\u001b[0m",
      "\u001b[0;31mNameError\u001b[0m                                 Traceback (most recent call last)",
      "Cell \u001b[0;32mIn[5], line 10\u001b[0m\n\u001b[1;32m      3\u001b[0m atoms0 \u001b[38;5;241m=\u001b[39m read(\u001b[38;5;124m\"\u001b[39m\u001b[38;5;124m/nfshome/okresa/Bachelor_Thesis_Office/LAMMPS/Link to LAMMPS/Sigma9_repetitions_1_2_4/_1rep_aimsgb_POSCAR_0.25_mini.data/T_50/optimize0.data\u001b[39m\u001b[38;5;124m\"\u001b[39m, \u001b[38;5;28mformat\u001b[39m\u001b[38;5;241m=\u001b[39m\u001b[38;5;124m'\u001b[39m\u001b[38;5;124mlammps-data\u001b[39m\u001b[38;5;124m'\u001b[39m, style\u001b[38;5;241m=\u001b[39m\u001b[38;5;124m'\u001b[39m\u001b[38;5;124matomic\u001b[39m\u001b[38;5;124m'\u001b[39m, Z_of_type\u001b[38;5;241m=\u001b[39m{\u001b[38;5;241m1\u001b[39m:\u001b[38;5;241m31\u001b[39m, \u001b[38;5;241m2\u001b[39m:\u001b[38;5;241m29\u001b[39m, \u001b[38;5;241m3\u001b[39m:\u001b[38;5;241m47\u001b[39m, \u001b[38;5;241m4\u001b[39m:\u001b[38;5;241m34\u001b[39m})\n\u001b[1;32m      4\u001b[0m \u001b[38;5;66;03m#atoms1 = read(\"/nfshome/okresa/Bachelor_Thesis_Office/LAMMPS/Link to LAMMPS/Sigma9_repetitions_1_2_4/_1rep_aimsgb_POSCAR_0.25_mini.data/T_50/optimize1.data\", format='lammps-data', style='atomic', Z_of_type={1:31, 2:29, 3:47, 4:34})\u001b[39;00m\n\u001b[1;32m      5\u001b[0m \u001b[38;5;66;03m#atoms2 = read(\"/nfshome/okresa/Bachelor_Thesis_Office/LAMMPS/Link to LAMMPS/Sigma9_repetitions_1_2_4/_2rep_aimsgb_POSCAR_0.25_mini.data/T_50/optimize0.data\", format='lammps-data', style='atomic', Z_of_type={1:31, 2:29, 3:47, 4:34})\u001b[39;00m\n\u001b[1;32m      6\u001b[0m \u001b[38;5;66;03m#atoms3 = read(\"/nfshome/okresa/Bachelor_Thesis_Office/LAMMPS/Link to LAMMPS/Sigma9_repetitions_1_2_4/_2rep_aimsgb_POSCAR_0.25_mini.data/T_50/optimize1.data\", format='lammps-data', style='atomic', Z_of_type={1:31, 2:29, 3:47, 4:34})\u001b[39;00m\n\u001b[1;32m      7\u001b[0m \u001b[38;5;66;03m#atoms4 = read(\"/nfshome/okresa/Bachelor_Thesis_Office/LAMMPS/Link to LAMMPS/Sigma9_repetitions_1_2_4/_4rep_aimsgb_POSCAR_0.25_mini.data/T_50/optimize0.data\", format='lammps-data', style='atomic', Z_of_type={1:31, 2:29, 3:47, 4:34})\u001b[39;00m\n\u001b[1;32m      8\u001b[0m \u001b[38;5;66;03m#atoms5 = read(\"/nfshome/okresa/Bachelor_Thesis_Office/LAMMPS/Link to LAMMPS/Sigma9_repetitions_1_2_4/_4rep_aimsgb_POSCAR_0.25_mini.data/T_50/optimize1.data\", format='lammps-data', style='atomic', Z_of_type={1:31, 2:29, 3:47, 4:34})\u001b[39;00m\n\u001b[0;32m---> 10\u001b[0m atoms0\u001b[38;5;241m.\u001b[39mset_calculator(\u001b[43mpot\u001b[49m)\n\u001b[1;32m     11\u001b[0m \u001b[38;5;66;03m#atoms1.set_calculator(pot)\u001b[39;00m\n\u001b[1;32m     12\u001b[0m \u001b[38;5;66;03m#atoms2.set_calculator(pot)\u001b[39;00m\n\u001b[1;32m     13\u001b[0m \u001b[38;5;66;03m#atoms3.set_calculator(pot)\u001b[39;00m\n\u001b[1;32m     14\u001b[0m \u001b[38;5;66;03m#atoms4.set_calculator(pot)\u001b[39;00m\n\u001b[1;32m     15\u001b[0m \u001b[38;5;66;03m#atoms5.set_calculator(pot)\u001b[39;00m\n\u001b[1;32m     17\u001b[0m e_pot0 \u001b[38;5;241m=\u001b[39m atoms0\u001b[38;5;241m.\u001b[39mget_potential_energy()\n",
      "\u001b[0;31mNameError\u001b[0m: name 'pot' is not defined"
     ]
    }
   ],
   "source": [
    "from ase.io import read\n",
    "\n",
    "atoms0 = read(\"/nfshome/okresa/Bachelor_Thesis_Office/LAMMPS/Link to LAMMPS/Sigma9_repetitions_1_2_4/_1rep_aimsgb_POSCAR_0.25_mini.data/T_50/optimize0.data\", format='lammps-data', style='atomic', Z_of_type={1:31, 2:29, 3:47, 4:34})\n",
    "#atoms1 = read(\"/nfshome/okresa/Bachelor_Thesis_Office/LAMMPS/Link to LAMMPS/Sigma9_repetitions_1_2_4/_1rep_aimsgb_POSCAR_0.25_mini.data/T_50/optimize1.data\", format='lammps-data', style='atomic', Z_of_type={1:31, 2:29, 3:47, 4:34})\n",
    "#atoms2 = read(\"/nfshome/okresa/Bachelor_Thesis_Office/LAMMPS/Link to LAMMPS/Sigma9_repetitions_1_2_4/_2rep_aimsgb_POSCAR_0.25_mini.data/T_50/optimize0.data\", format='lammps-data', style='atomic', Z_of_type={1:31, 2:29, 3:47, 4:34})\n",
    "#atoms3 = read(\"/nfshome/okresa/Bachelor_Thesis_Office/LAMMPS/Link to LAMMPS/Sigma9_repetitions_1_2_4/_2rep_aimsgb_POSCAR_0.25_mini.data/T_50/optimize1.data\", format='lammps-data', style='atomic', Z_of_type={1:31, 2:29, 3:47, 4:34})\n",
    "#atoms4 = read(\"/nfshome/okresa/Bachelor_Thesis_Office/LAMMPS/Link to LAMMPS/Sigma9_repetitions_1_2_4/_4rep_aimsgb_POSCAR_0.25_mini.data/T_50/optimize0.data\", format='lammps-data', style='atomic', Z_of_type={1:31, 2:29, 3:47, 4:34})\n",
    "#atoms5 = read(\"/nfshome/okresa/Bachelor_Thesis_Office/LAMMPS/Link to LAMMPS/Sigma9_repetitions_1_2_4/_4rep_aimsgb_POSCAR_0.25_mini.data/T_50/optimize1.data\", format='lammps-data', style='atomic', Z_of_type={1:31, 2:29, 3:47, 4:34})\n",
    "\n",
    "atoms0.set_calculator(pot)\n",
    "#atoms1.set_calculator(pot)\n",
    "#atoms2.set_calculator(pot)\n",
    "#atoms3.set_calculator(pot)\n",
    "#atoms4.set_calculator(pot)\n",
    "#atoms5.set_calculator(pot)\n",
    "\n",
    "e_pot0 = atoms0.get_potential_energy()\n",
    "Energy_relaxed.append(e_pot0)\n",
    "print(e_pot0)\n",
    "\n",
    "print(\"DONE\")\n",
    "\n"
   ]
  },
  {
   "cell_type": "code",
   "execution_count": null,
   "metadata": {},
   "outputs": [],
   "source": [
    "#( W I P )"
   ]
  },
  {
   "cell_type": "code",
   "execution_count": 4,
   "metadata": {},
   "outputs": [
    {
     "ename": "SyntaxError",
     "evalue": "cannot assign to f-string expression (3098510416.py, line 6)",
     "output_type": "error",
     "traceback": [
      "\u001b[0;36m  Cell \u001b[0;32mIn[4], line 6\u001b[0;36m\u001b[0m\n\u001b[0;31m    f'atoms0_{repeat}' = {repeat}\u001b[0m\n\u001b[0m    ^\u001b[0m\n\u001b[0;31mSyntaxError\u001b[0m\u001b[0;31m:\u001b[0m cannot assign to f-string expression\n"
     ]
    }
   ],
   "source": [
    "rep = [1,2,4]\n",
    "\n",
    "# Loop over the repetition factors\n",
    "for repeat in rep:\n",
    "\n",
    "    #f'atoms0_{repeat}' = {repeat}\n",
    "    #print(f'atoms0_{repeat}')\n",
    "    f'atoms0_{repeat}' = read(f\"/nfshome/okresa/Bachelor_Thesis_Office/LAMMPS/Link to LAMMPS/Sigma9_repetitions_1_2_4/_{repeat}rep_aimsgb_POSCAR_0.25_mini.data/T_50/optimize0.data\", format='lammps-data', style='atomic', Z_of_type={1:31, 2:29, 3:47, 4:34})\n",
    "    f'atoms1_{repeat}' = read(f\"/nfshome/okresa/Bachelor_Thesis_Office/LAMMPS/Link to LAMMPS/Sigma9_repetitions_1_2_4/_{repeat}rep_aimsgb_POSCAR_0.25_mini.data/T_50/optimize1.data\", format='lammps-data', style='atomic', Z_of_type={1:31, 2:29, 3:47, 4:34})\n",
    "\n",
    "    \n",
    "    #gb_atoms.wrap()\n",
    "    #gb_atoms.set_calculator(pot)\n",
    "    #Energy_unrelaxed.append(gb_atoms.get_potential_energy())\n",
    "\n",
    "    #filename = f'aimsgb_POSCAR_{Vacuum}'\n",
    "    #gb_atoms.write(filename, vasp5=True, sort=True, direct=True)\n",
    "    #optimize1(gb_atoms, write=True, fname=f'aimsgb_POSCAR_rel_{Vacuum}')\n",
    "    #e_pot = gb_atoms.get_potential_energy()\n",
    "    #Energy_relaxed.append(e_pot)\n",
    "    #print(e_pot)\n",
    "\n",
    "print('\\n \\nDONE')"
   ]
  },
  {
   "cell_type": "code",
   "execution_count": 10,
   "metadata": {},
   "outputs": [
    {
     "name": "stderr",
     "output_type": "stream",
     "text": [
      "/tmp/ipykernel_3735/4269346194.py:6: DeprecationWarning: Please use atoms.calc = calc\n",
      "  atoms1.set_calculator(pot)\n"
     ]
    },
    {
     "name": "stdout",
     "output_type": "stream",
     "text": [
      "-2219.92167775973\n",
      "-4464.536921834012\n",
      "-8954.25554914345\n"
     ]
    }
   ],
   "source": [
    "base_path = Path(\"/nfshome/okresa/LAMMPS/Sigma9_repetitions_1_2_4\")\n",
    "\n",
    "for f in base_path.glob(\"*.data/T_50/optimize1.data\"):\n",
    "    atoms1 = read(f, format='lammps-data', style='atomic', Z_of_type={1:31, 2:29, 3:47, 4:34})\n",
    "    atoms1.set_calculator(pot)\n",
    "    e_pot = atoms1.get_potential_energy()\n",
    "    #Energy_relaxed.append(e_pot)\n",
    "    print(e_pot)\n",
    "    "
   ]
  },
  {
   "cell_type": "code",
   "execution_count": null,
   "metadata": {},
   "outputs": [],
   "source": []
  }
 ],
 "metadata": {
  "kernelspec": {
   "display_name": "Python 3 (ipykernel)",
   "language": "python",
   "name": "python3"
  },
  "language_info": {
   "codemirror_mode": {
    "name": "ipython",
    "version": 3
   },
   "file_extension": ".py",
   "mimetype": "text/x-python",
   "name": "python",
   "nbconvert_exporter": "python",
   "pygments_lexer": "ipython3",
   "version": "3.9.20"
  }
 },
 "nbformat": 4,
 "nbformat_minor": 4
}
