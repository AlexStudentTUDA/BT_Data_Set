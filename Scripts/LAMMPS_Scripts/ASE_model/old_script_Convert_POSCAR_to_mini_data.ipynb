{
 "cells": [
  {
   "cell_type": "code",
   "execution_count": 1,
   "metadata": {},
   "outputs": [],
   "source": [
    "#Create_mini_from_POSCAR.py"
   ]
  },
  {
   "cell_type": "code",
   "execution_count": 9,
   "metadata": {},
   "outputs": [],
   "source": [
    "from ase.io import read, write\n",
    "\"\"\"\n",
    "atoms = read(\"GB-final-S3-CuGaSe2.vasp\")\n",
    "atoms.wrap()\n",
    "write(\"GB-final-S3-CuGaSe2.mini.data\",atoms,format=\"lammps-data\",specorder=['Ga','Cu','Ag','Se'])\n",
    "\n",
    "atoms = read(\"GB-final-S9-CuGaSe2.vasp\")\n",
    "atoms.wrap()\n",
    "write(\"GB-final-S9-CuGaSe2.mini.data\",atoms,format=\"lammps-data\",specorder=['Ga','Cu','Ag','Se'])\n",
    "\n",
    "atoms = read(\"GB-rattle-S9-CuGaSe2.vasp\")\n",
    "atoms.wrap()\n",
    "write(\"GB-rattle-S9-CuGaSe2.mini.data\",atoms,format=\"lammps-data\",specorder=['Ga','Cu','Ag','Se'])\n",
    "\n",
    "atoms = read(\"GB-S9-CuGaSe2-8rep.vasp\")\n",
    "atoms.wrap()\n",
    "write(\"GB-S9-CuGaSe2-8rep.mini.data\",atoms,format=\"lammps-data\",specorder=['Ga','Cu','Ag','Se'])\n",
    "\"\"\"\n",
    "atoms = read(\"GB-S9-CuGaSe2-2rep.vasp\")\n",
    "atoms.wrap()\n",
    "write(\"GB-S9-CuGaSe2-8rep.mini.data\",atoms,format=\"lammps-data\",specorder=['Ga','Cu','Ag','Se'])\n",
    "\n",
    "# yaml to yace\n",
    "# run to command line\n",
    "# pace_yaml2yace output_potential.yaml"
   ]
  },
  {
   "cell_type": "code",
   "execution_count": null,
   "metadata": {},
   "outputs": [],
   "source": [
    "#TO DO #rewrite as a for loop (W I P)"
   ]
  },
  {
   "cell_type": "code",
   "execution_count": null,
   "metadata": {},
   "outputs": [],
   "source": [
    "#create Folders"
   ]
  },
  {
   "cell_type": "code",
   "execution_count": 2,
   "metadata": {},
   "outputs": [],
   "source": [
    "import subprocess\n",
    "import os\n",
    "import numpy as np\n",
    "from pyace import *\n",
    "from ase.io import read\n",
    "import os\n",
    "import gzip\n",
    "import shutil\n",
    "import numpy as np\n",
    "import matplotlib.pyplot as plt"
   ]
  },
  {
   "cell_type": "code",
   "execution_count": 3,
   "metadata": {},
   "outputs": [
    {
     "name": "stdout",
     "output_type": "stream",
     "text": [
      "/nfshome/okresa/LAMMPS/LAMMPS_Workspace/ASE_base_relaxieren/mini_data_Structures/GB-S9-CuGaSe2.mini.data\n",
      "Copied GB-S9-CuGaSe2.mini.data to /nfshome/okresa/LAMMPS/LAMMPS_Workspace/ASE_base_relaxieren/GB-S9-CuGaSe2.mini.data/T_50\n",
      "Processed GB-S9-CuGaSe2.mini.data\n",
      "Copying and script execution completed.\n"
     ]
    }
   ],
   "source": [
    "# Source directory where POSCAR files are located\n",
    "#source_directory = '/nfshome/karanikv/TEST_Potential/Sigma3/LAMMPS_Sigma3/Structures'\n",
    "source_directory = '/nfshome/okresa/LAMMPS/LAMMPS_Workspace/ASE_base_relaxieren/mini_data_Structures'\n",
    "\n",
    "# Get a list of POSCAR files\n",
    "data_files = [filename for filename in os.listdir(source_directory) if filename.endswith('.data')]\n",
    "\n",
    "# Destination directory where you want to create the folders\n",
    "#destination_directory = '/nfshome/karanikv/TEST_Potential/Sigma3/LAMMPS_Sigma3'  # Use the current working directory\n",
    "destination_directory = '/nfshome/okresa/LAMMPS/LAMMPS_Workspace/ASE_base_relaxieren'\n",
    "#script_dir = os.path.dirname(os.path.abspath(__file__))\n",
    "script_dir = os.path.dirname(os.path.abspath(\"test.txt\"))\n",
    "\n",
    "# List of additional files to copy (from the main directory) [home?]\n",
    "additional_files = [\n",
    "    \"equilibrate.in\",\n",
    "    \"submit-lammps-ml_GPU_Version.sh\",\n",
    "]\n",
    "\n",
    "Temperatures = [50]\n",
    "\n",
    "# Loop through each POSCAR file\n",
    "for data_file in data_files:\n",
    "    Data = os.path.join(source_directory, f\"{data_file}\")\n",
    "    print(Data)\n",
    "    # Check if the POSCAR file exists in the source directory\n",
    "    source_path = os.path.join(source_directory, data_file)\n",
    "    if not os.path.exists(source_path):\n",
    "       print(f\"Error: '{poscar_file}' not found in '{source_directory}'. Skipping...\")\n",
    "       continue  # Skip to the next iteration\n",
    "\n",
    "    folder_name = f\"{data_file}\" # Extract folder name\n",
    "    folder_path = os.path.join(destination_directory, folder_name)\n",
    "\n",
    "    # Create the folder if it doesn't exist\n",
    "    os.makedirs(folder_path, exist_ok=True)\n",
    "\n",
    "    # Loop through each temperature\n",
    "    for Temperature in Temperatures:\n",
    "        temp_folder = os.path.join(folder_path, f'T_{Temperature}')\n",
    "\n",
    "        # Create a subfolder for the current temperature\n",
    "        os.makedirs(temp_folder, exist_ok=True)\n",
    "\n",
    "        # Copy the POSCAR file to the subfolder\n",
    "        source_path = os.path.join(source_directory, data_file)\n",
    "        destination_path = os.path.join(temp_folder, 'mini.data')\n",
    "        shutil.copy(source_path, destination_path)\n",
    "\n",
    "        # Copy additional files from the main directory to the subfolder with temperature-specific variations\n",
    "        for file_name in additional_files:\n",
    "            source_file_path = os.path.join(script_dir, file_name)  # Use the full path to the additional files\n",
    "            dest_file_path = os.path.join(temp_folder, file_name)\n",
    "            shutil.copy(source_file_path, dest_file_path)\n",
    "        \n",
    "        print(f\"Copied {data_file} to {temp_folder}\")\n",
    "\n",
    "    print(f\"Processed {data_file}\")\n",
    "\n",
    "print(\"Copying and script execution completed.\")"
   ]
  },
  {
   "cell_type": "markdown",
   "metadata": {},
   "source": [
    "#for path issues:\n",
    "https://www.google.com/search?client=ubuntu&channel=fs&q=Path%28%27.%27%29.glob%28%27Ga*%2FT_*%27%29%3A\n",
    "https://docs.python.org/3/library/pathlib.html\n",
    "https://www.php.net/manual/en/function.glob.php"
   ]
  },
  {
   "cell_type": "code",
   "execution_count": 3,
   "metadata": {},
   "outputs": [
    {
     "name": "stdout",
     "output_type": "stream",
     "text": [
      "/nfshome/okresa/LAMMPS/LAMMPS_Workspace/ASE_base_relaxieren/mini_data_Structures/GB-S9-CuGaSe2.mini.data\n"
     ]
    },
    {
     "ename": "FileNotFoundError",
     "evalue": "[Errno 2] No such file or directory: '/nfshome/okresa/Bachelor_Thesis_Office/Project_Vacancy_Intersetiell_ASE_model/Scripts/LAMMPS_Scripts/ASE_base_relaxieren/POSCAR_Structures/submit-lammps-ml_GPU_Version.sh'",
     "output_type": "error",
     "traceback": [
      "\u001b[0;31m---------------------------------------------------------------------------\u001b[0m",
      "\u001b[0;31mFileNotFoundError\u001b[0m                         Traceback (most recent call last)",
      "Cell \u001b[0;32mIn[3], line 54\u001b[0m\n\u001b[1;32m     52\u001b[0m         source_file_path \u001b[38;5;241m=\u001b[39m os\u001b[38;5;241m.\u001b[39mpath\u001b[38;5;241m.\u001b[39mjoin(script_dir, file_name)  \u001b[38;5;66;03m# Use the full path to the additional files\u001b[39;00m\n\u001b[1;32m     53\u001b[0m         dest_file_path \u001b[38;5;241m=\u001b[39m os\u001b[38;5;241m.\u001b[39mpath\u001b[38;5;241m.\u001b[39mjoin(temp_folder, file_name)\n\u001b[0;32m---> 54\u001b[0m         \u001b[43mshutil\u001b[49m\u001b[38;5;241;43m.\u001b[39;49m\u001b[43mcopy\u001b[49m\u001b[43m(\u001b[49m\u001b[43msource_file_path\u001b[49m\u001b[43m,\u001b[49m\u001b[43m \u001b[49m\u001b[43mdest_file_path\u001b[49m\u001b[43m)\u001b[49m\n\u001b[1;32m     56\u001b[0m     \u001b[38;5;28mprint\u001b[39m(\u001b[38;5;124mf\u001b[39m\u001b[38;5;124m\"\u001b[39m\u001b[38;5;124mCopied \u001b[39m\u001b[38;5;132;01m{\u001b[39;00mdata_file\u001b[38;5;132;01m}\u001b[39;00m\u001b[38;5;124m to \u001b[39m\u001b[38;5;132;01m{\u001b[39;00mtemp_folder\u001b[38;5;132;01m}\u001b[39;00m\u001b[38;5;124m\"\u001b[39m)\n\u001b[1;32m     58\u001b[0m \u001b[38;5;28mprint\u001b[39m(\u001b[38;5;124mf\u001b[39m\u001b[38;5;124m\"\u001b[39m\u001b[38;5;124mProcessed \u001b[39m\u001b[38;5;132;01m{\u001b[39;00mdata_file\u001b[38;5;132;01m}\u001b[39;00m\u001b[38;5;124m\"\u001b[39m)\n",
      "File \u001b[0;32m~/anaconda3/envs/ASE_pyace_aimsgb/lib/python3.9/shutil.py:427\u001b[0m, in \u001b[0;36mcopy\u001b[0;34m(src, dst, follow_symlinks)\u001b[0m\n\u001b[1;32m    425\u001b[0m \u001b[38;5;28;01mif\u001b[39;00m os\u001b[38;5;241m.\u001b[39mpath\u001b[38;5;241m.\u001b[39misdir(dst):\n\u001b[1;32m    426\u001b[0m     dst \u001b[38;5;241m=\u001b[39m os\u001b[38;5;241m.\u001b[39mpath\u001b[38;5;241m.\u001b[39mjoin(dst, os\u001b[38;5;241m.\u001b[39mpath\u001b[38;5;241m.\u001b[39mbasename(src))\n\u001b[0;32m--> 427\u001b[0m \u001b[43mcopyfile\u001b[49m\u001b[43m(\u001b[49m\u001b[43msrc\u001b[49m\u001b[43m,\u001b[49m\u001b[43m \u001b[49m\u001b[43mdst\u001b[49m\u001b[43m,\u001b[49m\u001b[43m \u001b[49m\u001b[43mfollow_symlinks\u001b[49m\u001b[38;5;241;43m=\u001b[39;49m\u001b[43mfollow_symlinks\u001b[49m\u001b[43m)\u001b[49m\n\u001b[1;32m    428\u001b[0m copymode(src, dst, follow_symlinks\u001b[38;5;241m=\u001b[39mfollow_symlinks)\n\u001b[1;32m    429\u001b[0m \u001b[38;5;28;01mreturn\u001b[39;00m dst\n",
      "File \u001b[0;32m~/anaconda3/envs/ASE_pyace_aimsgb/lib/python3.9/shutil.py:264\u001b[0m, in \u001b[0;36mcopyfile\u001b[0;34m(src, dst, follow_symlinks)\u001b[0m\n\u001b[1;32m    262\u001b[0m     os\u001b[38;5;241m.\u001b[39msymlink(os\u001b[38;5;241m.\u001b[39mreadlink(src), dst)\n\u001b[1;32m    263\u001b[0m \u001b[38;5;28;01melse\u001b[39;00m:\n\u001b[0;32m--> 264\u001b[0m     \u001b[38;5;28;01mwith\u001b[39;00m \u001b[38;5;28;43mopen\u001b[39;49m\u001b[43m(\u001b[49m\u001b[43msrc\u001b[49m\u001b[43m,\u001b[49m\u001b[43m \u001b[49m\u001b[38;5;124;43m'\u001b[39;49m\u001b[38;5;124;43mrb\u001b[39;49m\u001b[38;5;124;43m'\u001b[39;49m\u001b[43m)\u001b[49m \u001b[38;5;28;01mas\u001b[39;00m fsrc:\n\u001b[1;32m    265\u001b[0m         \u001b[38;5;28;01mtry\u001b[39;00m:\n\u001b[1;32m    266\u001b[0m             \u001b[38;5;28;01mwith\u001b[39;00m \u001b[38;5;28mopen\u001b[39m(dst, \u001b[38;5;124m'\u001b[39m\u001b[38;5;124mwb\u001b[39m\u001b[38;5;124m'\u001b[39m) \u001b[38;5;28;01mas\u001b[39;00m fdst:\n\u001b[1;32m    267\u001b[0m                 \u001b[38;5;66;03m# macOS\u001b[39;00m\n",
      "\u001b[0;31mFileNotFoundError\u001b[0m: [Errno 2] No such file or directory: '/nfshome/okresa/Bachelor_Thesis_Office/Project_Vacancy_Intersetiell_ASE_model/Scripts/LAMMPS_Scripts/ASE_base_relaxieren/POSCAR_Structures/submit-lammps-ml_GPU_Version.sh'"
     ]
    }
   ],
   "source": [
    "# Source directory where POSCAR files are located _ MD variant\n",
    "#source_directory = '/nfshome/karanikv/TEST_Potential/Sigma3/LAMMPS_Sigma3/Structures'\n",
    "source_directory = '/nfshome/okresa/LAMMPS/LAMMPS_Workspace/ASE_base_relaxieren/mini_data_Structures'\n",
    "\n",
    "# Get a list of POSCAR files\n",
    "data_files = [filename for filename in os.listdir(source_directory) if filename.endswith('.data')]\n",
    "\n",
    "# Destination directory where you want to create the folders\n",
    "#destination_directory = '/nfshome/karanikv/TEST_Potential/Sigma3/LAMMPS_Sigma3'  # Use the current working directory\n",
    "destination_directory = '/nfshome/okresa/LAMMPS/LAMMPS_Workspace/ASE_base_relaxieren'\n",
    "#script_dir = os.path.dirname(os.path.abspath(__file__))\n",
    "script_dir = os.path.dirname(os.path.abspath(\"test.txt\"))\n",
    "\n",
    "# List of additional files to copy (from the main directory) [home?]\n",
    "additional_files = [\n",
    "    \"equilibrate_MD.in\",\n",
    "    \"submit-lammps-ml_GPU_Version.sh\",\n",
    "]\n",
    "\n",
    "Temperatures = [1000]\n",
    "\n",
    "# Loop through each POSCAR file\n",
    "for data_file in data_files:\n",
    "    Data = os.path.join(source_directory, f\"{data_file}\")\n",
    "    print(Data)\n",
    "    # Check if the POSCAR file exists in the source directory\n",
    "    source_path = os.path.join(source_directory, data_file)\n",
    "    if not os.path.exists(source_path):\n",
    "       print(f\"Error: '{poscar_file}' not found in '{source_directory}'. Skipping...\")\n",
    "       continue  # Skip to the next iteration\n",
    "\n",
    "    folder_name = f\"{data_file}\" # Extract folder name\n",
    "    folder_path = os.path.join(destination_directory, folder_name)\n",
    "\n",
    "    # Create the folder if it doesn't exist\n",
    "    os.makedirs(folder_path, exist_ok=True)\n",
    "\n",
    "    # Loop through each temperature\n",
    "    for Temperature in Temperatures:\n",
    "        temp_folder = os.path.join(folder_path, f'T_{Temperature}')\n",
    "\n",
    "        # Create a subfolder for the current temperature\n",
    "        os.makedirs(temp_folder, exist_ok=True)\n",
    "\n",
    "        # Copy the POSCAR file to the subfolder\n",
    "        source_path = os.path.join(source_directory, data_file)\n",
    "        destination_path = os.path.join(temp_folder, 'mini.data')\n",
    "        shutil.copy(source_path, destination_path)\n",
    "\n",
    "        # Copy additional files from the main directory to the subfolder with temperature-specific variations\n",
    "        for file_name in additional_files:\n",
    "            source_file_path = os.path.join(script_dir, file_name)  # Use the full path to the additional files\n",
    "            dest_file_path = os.path.join(temp_folder, file_name)\n",
    "            shutil.copy(source_file_path, dest_file_path)\n",
    "        \n",
    "        print(f\"Copied {data_file} to {temp_folder}\")\n",
    "\n",
    "    print(f\"Processed {data_file}\")\n",
    "\n",
    "print(\"Copying and script execution completed.\")"
   ]
  },
  {
   "cell_type": "code",
   "execution_count": null,
   "metadata": {},
   "outputs": [],
   "source": []
  }
 ],
 "metadata": {
  "kernelspec": {
   "display_name": "Python 3 (ipykernel)",
   "language": "python",
   "name": "python3"
  },
  "language_info": {
   "codemirror_mode": {
    "name": "ipython",
    "version": 3
   },
   "file_extension": ".py",
   "mimetype": "text/x-python",
   "name": "python",
   "nbconvert_exporter": "python",
   "pygments_lexer": "ipython3",
   "version": "3.9.20"
  }
 },
 "nbformat": 4,
 "nbformat_minor": 4
}
